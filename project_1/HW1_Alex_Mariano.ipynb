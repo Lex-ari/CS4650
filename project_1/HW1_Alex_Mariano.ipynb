{
 "cells": [
  {
   "cell_type": "code",
   "execution_count": 26,
   "metadata": {},
   "outputs": [
    {
     "name": "stdout",
     "output_type": "stream",
     "text": [
      "Overwriting wind_temperature.py\n"
     ]
    }
   ],
   "source": [
    "%%file wind_temperature.py\n",
    "\n",
    "import re\n",
    "import json\n",
    "\n",
    "from mrjob.job import MRJob\n",
    "\n",
    "QUALITY_RE = re.compile(r\"[01459]\")\n",
    "\n",
    "class WindTemperature(MRJob):\n",
    "    \n",
    "    def mapper(self, _, line):\n",
    "        val = line.strip()\n",
    "        (wind_heading, wind_quality, temp) = (val[60:63], val[63], val[87:92])\n",
    "        if (temp != \"+9999\" \n",
    "            and re.match(QUALITY_RE, wind_quality)\n",
    "            and wind_heading != \"999\"):\n",
    "            yield wind_heading, {\"temp\":int(temp), \"count\":1}\n",
    "    \n",
    "    def reducer(self, key, values):\n",
    "        count = 0\n",
    "        min_temp = None\n",
    "        max_temp = None\n",
    "        for reading in values:\n",
    "            reading_temp = reading[\"temp\"]\n",
    "            if min_temp is None:\n",
    "                min_temp = reading_temp\n",
    "            if max_temp is None:\n",
    "                max_temp = reading_temp\n",
    "            min_temp = min(min_temp, reading_temp)\n",
    "            max_temp = max(max_temp, reading_temp)\n",
    "            count += reading[\"count\"]\n",
    "        yield key, {\"low\":min_temp, \"high\":max_temp, \"count\":count}\n",
    "            \n",
    "    \n",
    "if __name__ == '__main__':\n",
    "    WindTemperature.run()"
   ]
  },
  {
   "cell_type": "code",
   "execution_count": 27,
   "metadata": {},
   "outputs": [
    {
     "name": "stdout",
     "output_type": "stream",
     "text": [
      "No configs found; falling back on auto-configuration\n",
      "No configs specified for local runner\n",
      "Creating temp directory /tmp/wind_temperature.oreomilkshake.20240929.082428.142748\n",
      "Running step 1 of 1...\n",
      "job output is in /tmp/wind_temperature.oreomilkshake.20240929.082428.142748/output\n",
      "Streaming final output from /tmp/wind_temperature.oreomilkshake.20240929.082428.142748/output...\n",
      "\"110\"\t{\"low\":-239,\"high\":278,\"count\":296}\n",
      "\"140\"\t{\"low\":-328,\"high\":278,\"count\":1005}\n",
      "\"200\"\t{\"low\":-183,\"high\":300,\"count\":688}\n",
      "\"290\"\t{\"low\":-328,\"high\":306,\"count\":379}\n",
      "\"320\"\t{\"low\":-311,\"high\":306,\"count\":1152}\n",
      "\"090\"\t{\"low\":-267,\"high\":272,\"count\":567}\n",
      "\"160\"\t{\"low\":-239,\"high\":289,\"count\":647}\n",
      "\"270\"\t{\"low\":-211,\"high\":278,\"count\":931}\n",
      "\"340\"\t{\"low\":-300,\"high\":311,\"count\":427}\n",
      "\"020\"\t{\"low\":-272,\"high\":317,\"count\":582}\n",
      "\"250\"\t{\"low\":-222,\"high\":311,\"count\":604}\n",
      "\"180\"\t{\"low\":-250,\"high\":294,\"count\":879}\n",
      "\"070\"\t{\"low\":-333,\"high\":278,\"count\":502}\n",
      "\"360\"\t{\"low\":-267,\"high\":289,\"count\":888}\n",
      "\"230\"\t{\"low\":-228,\"high\":283,\"count\":1488}\n",
      "\"050\"\t{\"low\":-322,\"high\":306,\"count\":1039}\n",
      "Removing temp directory /tmp/wind_temperature.oreomilkshake.20240929.082428.142748...\n"
     ]
    }
   ],
   "source": [
    "!python wind_temperature.py -r local 1901 1902"
   ]
  }
 ],
 "metadata": {
  "kernelspec": {
   "display_name": "Python 3 (ipykernel)",
   "language": "python",
   "name": "python3"
  },
  "language_info": {
   "codemirror_mode": {
    "name": "ipython",
    "version": 3
   },
   "file_extension": ".py",
   "mimetype": "text/x-python",
   "name": "python",
   "nbconvert_exporter": "python",
   "pygments_lexer": "ipython3",
   "version": "3.8.10"
  }
 },
 "nbformat": 4,
 "nbformat_minor": 2
}
