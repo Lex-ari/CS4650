{
 "cells": [
  {
   "cell_type": "code",
   "execution_count": 1,
   "metadata": {},
   "outputs": [
    {
     "name": "stdout",
     "output_type": "stream",
     "text": [
      "Overwriting wind_temperature.py\n"
     ]
    }
   ],
   "source": [
    "%%file wind_temperature.py\n",
    "\n",
    "import re\n",
    "import json\n",
    "\n",
    "from mrjob.job import MRJob\n",
    "\n",
    "class WindTemperature(MRJob):\n",
    "    \n",
    "    def mapper(self, _, line):\n",
    "        val = line.strip()\n",
    "        for x in val:\n",
    "            yield x, 1\n",
    "    \n",
    "    def reduer(self, key, values):\n",
    "        yield key, sum(values)\n",
    "    \n",
    "if __name__ == '__main__':\n",
    "    WindTemperature.run()"
   ]
  },
  {
   "cell_type": "code",
   "execution_count": 2,
   "metadata": {},
   "outputs": [
    {
     "name": "stdout",
     "output_type": "stream",
     "text": [
      "Traceback (most recent call last):\n",
      "  File \"/home/oreomilkshake/HW/CS4650/project_1/wind_temperature.py\", line 5, in <module>\n",
      "    from mrjob.job import MRJob\n",
      "ModuleNotFoundError: No module named 'mrjob'\n"
     ]
    }
   ],
   "source": [
    "!python wind_temperature.py -r local 1901"
   ]
  }
 ],
 "metadata": {
  "kernelspec": {
   "display_name": "base",
   "language": "python",
   "name": "python3"
  },
  "language_info": {
   "codemirror_mode": {
    "name": "ipython",
    "version": 3
   },
   "file_extension": ".py",
   "mimetype": "text/x-python",
   "name": "python",
   "nbconvert_exporter": "python",
   "pygments_lexer": "ipython3",
   "version": "3.12.4"
  }
 },
 "nbformat": 4,
 "nbformat_minor": 2
}
