{
 "cells": [
  {
   "cell_type": "code",
   "execution_count": 139,
   "metadata": {},
   "outputs": [
    {
     "name": "stdout",
     "output_type": "stream",
     "text": [
      "Overwriting alphabet_part_one.py\n"
     ]
    }
   ],
   "source": [
    "%%file alphabet_part_one.py\n",
    "\n",
    "import re\n",
    "import json\n",
    "\n",
    "from mrjob.job import MRJob\n",
    "\n",
    "class AlphabetPartOne(MRJob):\n",
    "    \n",
    "    def mapper(self, _, line):\n",
    "        data = line.strip()\n",
    "        values = data.split(\",\")\n",
    "        row = values[0]\n",
    "        col = values[1]\n",
    "        val = int(values[2])\n",
    "        yield row, val\n",
    "        yield col, val\n",
    "    \n",
    "    def reducer(self, key, values):\n",
    "        if key >= \"A\" and key <= \"J\":\n",
    "            yield key, max(values)\n",
    "        else:\n",
    "            yield key, min(values)\n",
    "        \n",
    "    \n",
    "if __name__ == '__main__':\n",
    "    AlphabetPartOne.run()"
   ]
  },
  {
   "cell_type": "code",
   "execution_count": 140,
   "metadata": {},
   "outputs": [
    {
     "name": "stdout",
     "output_type": "stream",
     "text": [
      "No configs found; falling back on auto-configuration\n",
      "No configs specified for local runner\n",
      "Creating temp directory /tmp/alphabet_part_one.oreomilkshake.20241010.092549.339205\n",
      "Running step 1 of 1...\n",
      "job output is in /tmp/alphabet_part_one.oreomilkshake.20241010.092549.339205/output\n",
      "Streaming final output from /tmp/alphabet_part_one.oreomilkshake.20241010.092549.339205/output...\n",
      "\"E\"\t998\n",
      "\"H\"\t997\n",
      "\"L\"\t3\n",
      "\"D\"\t995\n",
      "\"T\"\t2\n",
      "\"F\"\t997\n",
      "\"S\"\t5\n",
      "\"K\"\t0\n",
      "\"M\"\t0\n",
      "\"A\"\t994\n",
      "\"R\"\t2\n",
      "\"P\"\t12\n",
      "\"J\"\t992\n",
      "\"G\"\t997\n",
      "\"C\"\t987\n",
      "\"Q\"\t0\n",
      "\"N\"\t13\n",
      "\"O\"\t1\n",
      "\"I\"\t995\n",
      "\"B\"\t999\n",
      "Removing temp directory /tmp/alphabet_part_one.oreomilkshake.20241010.092549.339205...\n"
     ]
    }
   ],
   "source": [
    "!python alphabet_part_one.py -r local cs4650hw1.dat"
   ]
  }
 ],
 "metadata": {
  "kernelspec": {
   "display_name": "Python 3 (ipykernel)",
   "language": "python",
   "name": "python3"
  },
  "language_info": {
   "codemirror_mode": {
    "name": "ipython",
    "version": 3
   },
   "file_extension": ".py",
   "mimetype": "text/x-python",
   "name": "python",
   "nbconvert_exporter": "python",
   "pygments_lexer": "ipython3",
   "version": "3.8.10"
  }
 },
 "nbformat": 4,
 "nbformat_minor": 2
}
