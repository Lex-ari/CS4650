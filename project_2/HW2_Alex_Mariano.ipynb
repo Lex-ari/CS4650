{
 "cells": [
  {
   "cell_type": "code",
   "execution_count": 1,
   "metadata": {},
   "outputs": [
    {
     "name": "stdout",
     "output_type": "stream",
     "text": [
      "Overwriting alphabet_part_one.py\n"
     ]
    }
   ],
   "source": [
    "%%file alphabet_part_one.py\n",
    "\n",
    "import re\n",
    "import json\n",
    "\n",
    "from mrjob.job import MRJob\n",
    "\n",
    "class AlphabetPartOne(MRJob):\n",
    "    \n",
    "    def mapper(self, _, line):\n",
    "        data = line.strip()\n",
    "        values = data.split(\",\")\n",
    "        row = values[0]\n",
    "        col = values[1]\n",
    "        val = int(values[2])\n",
    "        yield row, val\n",
    "        yield col, val\n",
    "    \n",
    "    def reducer(self, key, values):\n",
    "        if key >= \"A\" and key <= \"J\":\n",
    "            yield key, max(values)\n",
    "        else:\n",
    "            yield key, min(values)\n",
    "        \n",
    "    \n",
    "if __name__ == '__main__':\n",
    "    AlphabetPartOne.run()"
   ]
  },
  {
   "cell_type": "code",
   "execution_count": 2,
   "metadata": {},
   "outputs": [
    {
     "name": "stdout",
     "output_type": "stream",
     "text": [
      "No configs found; falling back on auto-configuration\n",
      "No configs specified for local runner\n",
      "Creating temp directory /tmp/alphabet_part_one.oreomilkshake.20241010.094802.132634\n",
      "Running step 1 of 1...\n",
      "job output is in /tmp/alphabet_part_one.oreomilkshake.20241010.094802.132634/output\n",
      "Streaming final output from /tmp/alphabet_part_one.oreomilkshake.20241010.094802.132634/output...\n",
      "\"E\"\t998\n",
      "\"H\"\t997\n",
      "\"L\"\t3\n",
      "\"D\"\t995\n",
      "\"T\"\t2\n",
      "\"F\"\t997\n",
      "\"S\"\t5\n",
      "\"K\"\t0\n",
      "\"M\"\t0\n",
      "\"A\"\t994\n",
      "\"R\"\t2\n",
      "\"P\"\t12\n",
      "\"J\"\t992\n",
      "\"G\"\t997\n",
      "\"C\"\t987\n",
      "\"Q\"\t0\n",
      "\"N\"\t13\n",
      "\"O\"\t1\n",
      "\"I\"\t995\n",
      "\"B\"\t999\n",
      "Removing temp directory /tmp/alphabet_part_one.oreomilkshake.20241010.094802.132634...\n"
     ]
    }
   ],
   "source": [
    "!python alphabet_part_one.py -r local cs4650hw1.dat"
   ]
  },
  {
   "cell_type": "code",
   "execution_count": 3,
   "metadata": {},
   "outputs": [
    {
     "name": "stdout",
     "output_type": "stream",
     "text": [
      "Overwriting alphabet_part_two.py\n"
     ]
    }
   ],
   "source": [
    "%%file alphabet_part_two.py\n",
    "\n",
    "import re\n",
    "import json\n",
    "\n",
    "from mrjob.job import MRJob\n",
    "\n",
    "class AlphabetPartTwo(MRJob):\n",
    "    \n",
    "    def mapper(self, _, line):\n",
    "        data = line.strip()\n",
    "        values = data.split(\",\")\n",
    "        row = values[0]\n",
    "        col = values[1]\n",
    "        val = int(values[2])\n",
    "        yield row, {\"value\":val, \"loc\":col}\n",
    "        yield col, {\"value\":val, \"loc\":row}\n",
    "    \n",
    "    def reducer(self, key, values):\n",
    "        data_value = None\n",
    "        min_data = 9999\n",
    "        max_data = -9999\n",
    "        loc_min = None\n",
    "        loc_max = None\n",
    "        for value in values:\n",
    "            data_value = value[\"value\"]\n",
    "            loc_value = value[\"loc\"]\n",
    "            \n",
    "            if data_value <= min_data:\n",
    "                min_data = data_value\n",
    "                loc_min = loc_value\n",
    "            if data_value >= max_data:\n",
    "                max_data = data_value\n",
    "                loc_max = loc_value\n",
    "            \n",
    "        if key >= \"A\" and key <= \"J\":\n",
    "            yield key, {\"value\":max_data, \"example\":loc_max}\n",
    "        else:\n",
    "            yield key, {\"value\":min_data, \"example\":loc_min}\n",
    "        \n",
    "    \n",
    "if __name__ == '__main__':\n",
    "    AlphabetPartTwo.run()"
   ]
  },
  {
   "cell_type": "code",
   "execution_count": 4,
   "metadata": {},
   "outputs": [
    {
     "name": "stdout",
     "output_type": "stream",
     "text": [
      "No configs found; falling back on auto-configuration\n",
      "No configs specified for local runner\n",
      "Creating temp directory /tmp/alphabet_part_two.oreomilkshake.20241010.094803.621531\n",
      "Running step 1 of 1...\n",
      "job output is in /tmp/alphabet_part_two.oreomilkshake.20241010.094803.621531/output\n",
      "Streaming final output from /tmp/alphabet_part_two.oreomilkshake.20241010.094803.621531/output...\n",
      "\"E\"\t{\"value\":998,\"example\":\"S\"}\n",
      "\"H\"\t{\"value\":997,\"example\":\"P\"}\n",
      "\"L\"\t{\"value\":3,\"example\":\"B\"}\n",
      "\"D\"\t{\"value\":995,\"example\":\"M\"}\n",
      "\"T\"\t{\"value\":2,\"example\":\"G\"}\n",
      "\"F\"\t{\"value\":997,\"example\":\"M\"}\n",
      "\"S\"\t{\"value\":5,\"example\":\"I\"}\n",
      "\"K\"\t{\"value\":0,\"example\":\"H\"}\n",
      "\"M\"\t{\"value\":0,\"example\":\"E\"}\n",
      "\"A\"\t{\"value\":994,\"example\":\"P\"}\n",
      "\"R\"\t{\"value\":2,\"example\":\"F\"}\n",
      "\"P\"\t{\"value\":12,\"example\":\"B\"}\n",
      "\"J\"\t{\"value\":992,\"example\":\"K\"}\n",
      "\"G\"\t{\"value\":997,\"example\":\"M\"}\n",
      "\"C\"\t{\"value\":987,\"example\":\"S\"}\n",
      "\"Q\"\t{\"value\":0,\"example\":\"G\"}\n",
      "\"N\"\t{\"value\":13,\"example\":\"B\"}\n",
      "\"O\"\t{\"value\":1,\"example\":\"H\"}\n",
      "\"I\"\t{\"value\":995,\"example\":\"S\"}\n",
      "\"B\"\t{\"value\":999,\"example\":\"N\"}\n",
      "Removing temp directory /tmp/alphabet_part_two.oreomilkshake.20241010.094803.621531...\n"
     ]
    }
   ],
   "source": [
    "!python alphabet_part_two.py -r local cs4650hw1.dat"
   ]
  },
  {
   "cell_type": "code",
   "execution_count": 7,
   "metadata": {},
   "outputs": [
    {
     "name": "stdout",
     "output_type": "stream",
     "text": [
      "Overwriting alphabet_part_three.py\n"
     ]
    }
   ],
   "source": [
    "%%file alphabet_part_three.py\n",
    "\n",
    "import re\n",
    "import json\n",
    "\n",
    "from mrjob.job import MRJob\n",
    "\n",
    "class AlphabetPartThree(MRJob):\n",
    "    \n",
    "    def mapper(self, _, line):\n",
    "        data = line.strip()\n",
    "        values = data.split(\",\")\n",
    "        row = values[0]\n",
    "        col = values[1]\n",
    "        val = int(values[2])\n",
    "        yield row, {\"value\":val, \"loc\":col}\n",
    "        yield col, {\"value\":val, \"loc\":row}\n",
    "    \n",
    "    def reducer(self, key, values):\n",
    "        data_value = None\n",
    "        min_data = 9999\n",
    "        max_data = -9999\n",
    "        loc_min = []\n",
    "        loc_max = []\n",
    "        for value in values:\n",
    "            data_value = value[\"value\"]\n",
    "            loc_value = value[\"loc\"]\n",
    "            \n",
    "            if data_value == min_data:\n",
    "                loc_min.append(loc_value)\n",
    "            elif data_value == max_data:\n",
    "                loc_max.append(loc_value)\n",
    "            elif data_value < min_data:\n",
    "                min_data = data_value\n",
    "                loc_min = [loc_value]\n",
    "            elif data_value > max_data:\n",
    "                max_data = data_value\n",
    "                loc_max = [loc_value]\n",
    "            \n",
    "        if key >= \"A\" and key <= \"J\":\n",
    "            yield key, {\"value\":max_data, \"examples\":loc_max}\n",
    "        else:\n",
    "            yield key, {\"value\":min_data, \"examples\":loc_min}\n",
    "        \n",
    "    \n",
    "if __name__ == '__main__':\n",
    "    AlphabetPartThree.run()"
   ]
  },
  {
   "cell_type": "code",
   "execution_count": 8,
   "metadata": {},
   "outputs": [
    {
     "name": "stdout",
     "output_type": "stream",
     "text": [
      "No configs found; falling back on auto-configuration\n",
      "No configs specified for local runner\n",
      "Creating temp directory /tmp/alphabet_part_three.oreomilkshake.20241010.094824.803519\n",
      "Running step 1 of 1...\n",
      "job output is in /tmp/alphabet_part_three.oreomilkshake.20241010.094824.803519/output\n",
      "Streaming final output from /tmp/alphabet_part_three.oreomilkshake.20241010.094824.803519/output...\n",
      "\"E\"\t{\"value\":998,\"examples\":[\"N\",\"S\"]}\n",
      "\"H\"\t{\"value\":997,\"examples\":[\"P\"]}\n",
      "\"L\"\t{\"value\":3,\"examples\":[\"H\",\"B\"]}\n",
      "\"D\"\t{\"value\":995,\"examples\":[\"M\"]}\n",
      "\"T\"\t{\"value\":2,\"examples\":[\"G\"]}\n",
      "\"F\"\t{\"value\":997,\"examples\":[\"M\"]}\n",
      "\"S\"\t{\"value\":5,\"examples\":[\"I\"]}\n",
      "\"K\"\t{\"value\":0,\"examples\":[\"H\"]}\n",
      "\"M\"\t{\"value\":0,\"examples\":[\"E\"]}\n",
      "\"A\"\t{\"value\":994,\"examples\":[\"R\",\"P\"]}\n",
      "\"R\"\t{\"value\":2,\"examples\":[\"F\"]}\n",
      "\"P\"\t{\"value\":12,\"examples\":[\"B\"]}\n",
      "\"J\"\t{\"value\":992,\"examples\":[\"K\"]}\n",
      "\"G\"\t{\"value\":997,\"examples\":[\"M\"]}\n",
      "\"C\"\t{\"value\":987,\"examples\":[\"S\"]}\n",
      "\"Q\"\t{\"value\":0,\"examples\":[\"C\",\"G\"]}\n",
      "\"N\"\t{\"value\":13,\"examples\":[\"B\"]}\n",
      "\"O\"\t{\"value\":1,\"examples\":[\"H\"]}\n",
      "\"I\"\t{\"value\":995,\"examples\":[\"S\"]}\n",
      "\"B\"\t{\"value\":999,\"examples\":[\"N\"]}\n",
      "Removing temp directory /tmp/alphabet_part_three.oreomilkshake.20241010.094824.803519...\n"
     ]
    }
   ],
   "source": [
    "!python alphabet_part_three.py -r local cs4650hw1.dat"
   ]
  }
 ],
 "metadata": {
  "kernelspec": {
   "display_name": "Python 3 (ipykernel)",
   "language": "python",
   "name": "python3"
  },
  "language_info": {
   "codemirror_mode": {
    "name": "ipython",
    "version": 3
   },
   "file_extension": ".py",
   "mimetype": "text/x-python",
   "name": "python",
   "nbconvert_exporter": "python",
   "pygments_lexer": "ipython3",
   "version": "3.8.10"
  }
 },
 "nbformat": 4,
 "nbformat_minor": 2
}
